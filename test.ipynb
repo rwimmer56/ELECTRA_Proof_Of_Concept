{
 "metadata": {
  "language_info": {
   "codemirror_mode": {
    "name": "ipython",
    "version": 3
   },
   "file_extension": ".py",
   "mimetype": "text/x-python",
   "name": "python",
   "nbconvert_exporter": "python",
   "pygments_lexer": "ipython3",
   "version": "3.9.2"
  },
  "orig_nbformat": 2,
  "kernelspec": {
   "name": "python392jvsc74a57bd0e1c3af80925dfa28464db5ad263241e718a648d6c243bd98afcda7506fdfac39",
   "display_name": "Python 3.9.2 64-bit ('electra_venv': conda)"
  },
  "metadata": {
   "interpreter": {
    "hash": "e1c3af80925dfa28464db5ad263241e718a648d6c243bd98afcda7506fdfac39"
   }
  }
 },
 "nbformat": 4,
 "nbformat_minor": 2,
 "cells": [
  {
   "cell_type": "code",
   "execution_count": 9,
   "metadata": {},
   "outputs": [],
   "source": [
    "from transformers import AutoModelForQuestionAnswering, AutoTokenizer, pipeline"
   ]
  },
  {
   "cell_type": "code",
   "execution_count": 10,
   "metadata": {},
   "outputs": [],
   "source": [
    "model_name = \"deepset/electra-base-squad2\""
   ]
  },
  {
   "cell_type": "code",
   "execution_count": 5,
   "metadata": {},
   "outputs": [],
   "source": [
    "question_list = []\n",
    "question_list = [item for item in input(\"Enter the Question you want to ask to model: \").split(',')]"
   ]
  },
  {
   "cell_type": "code",
   "execution_count": 6,
   "metadata": {},
   "outputs": [
    {
     "output_type": "execute_result",
     "data": {
      "text/plain": [
       "['what is the SOLID principle',\n",
       " ' what is REACT',\n",
       " ' what should components do in REACT']"
      ]
     },
     "metadata": {},
     "execution_count": 6
    }
   ],
   "source": [
    "question_list"
   ]
  },
  {
   "cell_type": "code",
   "execution_count": 7,
   "metadata": {},
   "outputs": [],
   "source": [
    "context_paragraph = 'If you’re a developer then surely you might have listened to SOLID Principles word several times in your programming career. In Software development, the SOLID principle works as a guideline for developers. It doesn’t matter which language you’re using in your project, to make your code clean and maintainable, you need to apply the SOLID principle in your project. SOLID principle makes the task easier for developers, and also it helps them in maintaining the code in their project. Let’s talk about React now, a very popular framework among developers. With the help of React, you can create a beautiful UI. In the earlier stage of your career, you may do a lot of mistakes in writing the code in React but once you will have experience in working on it, you will understand that it’s also important to write clean and maintainable code in React. For this reason, surely one thing that can help you are the SOLID principle. You can write small, beautiful, and clean React components. SOLID principle makes your component visible with clear responsibilities. The SOLID principle tells us that each class should have a single purpose of existence. In React, components should do only one thing at a time.'"
   ]
  },
  {
   "cell_type": "code",
   "execution_count": 11,
   "metadata": {},
   "outputs": [],
   "source": [
    "nlp = pipeline('question-answering', model=model_name, tokenizer=model_name)\n",
    "answers = []\n",
    "\n",
    "for question in question_list:\n",
    "    QA_input = {\n",
    "        'question': question,\n",
    "        'context': context_paragraph\n",
    "    }\n",
    "    res = nlp(QA_input)\n",
    "    answers.append(res)"
   ]
  },
  {
   "cell_type": "code",
   "execution_count": 12,
   "metadata": {},
   "outputs": [
    {
     "output_type": "execute_result",
     "data": {
      "text/plain": [
       "[{'score': 0.03369512781500816,\n",
       "  'start': 367,\n",
       "  'end': 419,\n",
       "  'answer': 'SOLID principle makes the task easier for developers'},\n",
       " {'score': 0.40808606147766113,\n",
       "  'start': 503,\n",
       "  'end': 555,\n",
       "  'answer': 'React now, a very popular framework among developers'},\n",
       " {'score': 0.35557371377944946,\n",
       "  'start': 1160,\n",
       "  'end': 1206,\n",
       "  'answer': 'components should do only one thing at a time.'}]"
      ]
     },
     "metadata": {},
     "execution_count": 12
    }
   ],
   "source": [
    "answers"
   ]
  },
  {
   "cell_type": "code",
   "execution_count": null,
   "metadata": {},
   "outputs": [],
   "source": []
  }
 ]
}